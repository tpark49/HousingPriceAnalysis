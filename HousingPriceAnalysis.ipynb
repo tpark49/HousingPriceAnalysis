{
 "cells": [
  {
   "cell_type": "code",
   "execution_count": 701,
   "metadata": {
    "scrolled": true
   },
   "outputs": [],
   "source": [
    "homes_df = pd.read_csv(\"desktop/City_Zhvi_AllHomes.csv\")\n",
    "\n",
    "university_df = pd.read_csv(\"desktop/university_towns.txt\", delimiter = \"edit\", header = None, names = [\"a\",\"b\"], engine=\"python\")\n",
    "university_df2 = pd.DataFrame(columns={\"State\", \"RegionName\"})\n",
    "state = \"\"\n",
    "region = \"\"\n",
    "for i in university_df[\"a\"]:\n",
    "    if i[-1] == \"[\":\n",
    "        state = i[:-1]\n",
    "    elif i[-1] == \"]\" or i[-1] == \")\":\n",
    "        region = i.split(\"(\")[0]\n",
    "        university_df2 = university_df2.append(pd.DataFrame([[state, region]], columns = [\"State\", \"RegionName\"]), sort=True)   \n",
    "\n",
    "        \n",
    "gdp_df = pd.read_excel(\"desktop/gdplev (1).xls\",skiprows=5)\n",
    "gdp_df = gdp_df[214:].drop(columns={\"Unnamed: 0\",\"GDP in billions of current dollars\",\"GDP in billions of chained 2009 dollars\",\"Unnamed: 3\",\"Unnamed: 7\",\"GDP in billions of current dollars.1\"})\n",
    "gdp_df.rename(columns={\"Unnamed: 4\":\"Quarters\"}, inplace = True)\n",
    "gdp_df.columns = [\"Quarters\",\"GDP\"]\n",
    "\n",
    "\n",
    "university_df2[\"RegionName\"] = university_df2[\"RegionName\"].str.strip()\n"
   ]
  },
  {
   "cell_type": "code",
   "execution_count": 700,
   "metadata": {
    "scrolled": true
   },
   "outputs": [
    {
     "data": {
      "text/plain": [
       "8.557239568748945e-09"
      ]
     },
     "execution_count": 700,
     "metadata": {},
     "output_type": "execute_result"
    }
   ],
   "source": [
    "from scipy.stats import ttest_ind\n",
    "\n",
    "gdplev = pd.ExcelFile(\"desktop/gdplev (1).xls\")\n",
    "gdplev = gdplev.parse(\"Sheet1\", skiprows = 219)\n",
    "gdplev = gdplev[[\"1999q4\", 9926.1]]\n",
    "gdplev.columns = [\"Quarters\",\"GDP\"]\n",
    "def recessionStart():\n",
    "    for i in range(2,len(gdplev)):\n",
    "        if gdplev.iloc[i-2][1]>gdplev.iloc[i-1][1] and gdplev.iloc[i-1][1] > gdplev.iloc[i][1]:\n",
    "            return gdplev.iloc[i-2]\n",
    "        \n",
    "def recessionEnd():\n",
    "    start = recessionStart()\n",
    "    gdplev_2 = gdplev[start.name:]\n",
    "    for i in range(2, len(gdplev_2)):\n",
    "        if gdplev_2.iloc[i-2][1]<gdplev_2.iloc[i-1][1] and gdplev_2.iloc[i-1][1] <gdplev_2.iloc[i][1]:\n",
    "            return gdplev_2.iloc[i]\n",
    "        \n",
    "def getRecessionBottom():\n",
    "    start = recessionStart()\n",
    "    end = recessionEnd()\n",
    "    gdplev_2 = gdplev[start.name:end.name+1]\n",
    "    return gdplev_2[gdplev_2[\"GDP\"] == gdplev_2[\"GDP\"].min()]      \n",
    "\n",
    "df_homes = homes_df\n",
    "\n",
    "def convertQuarters():\n",
    "    new_df = pd.DataFrame(columns=[\"RegionName\",\"State\"])\n",
    "    new_df[[\"RegionName\",\"State\"]] = new_df[[\"RegionName\",\"State\"]].append(df_homes[[\"RegionName\",\"State\"]])\n",
    " \n",
    "    for i in homes_df.columns:\n",
    "        if i[-2:] == \"01\":\n",
    "            new_df[i[:4] + \"q1\"] = df_homes[i]\n",
    "        elif i[-2:] in [\"02\",\"03\"]:\n",
    "            new_df[i[:4] + \"q1\"] += df_homes[i]\n",
    "        \n",
    "        if i[-2:] == \"04\":\n",
    "            new_df[i[:4] + \"q2\"] = df_homes[i]\n",
    "        elif i[-2:] in [\"05\",\"06\"]:\n",
    "            new_df[i[:4] + \"q2\"] += df_homes[i]\n",
    "            \n",
    "        if i[-2:] == \"07\":\n",
    "            new_df[i[:4] + \"q3\"] = df_homes[i]\n",
    "        elif i[-2:] in [\"08\",\"09\"]:\n",
    "            new_df[i[:4] + \"q3\"] += df_homes[i]\n",
    " \n",
    "        if i[-2:] == \"10\":\n",
    "            new_df[i[:4] + \"q4\"] = df_homes[i]\n",
    "        elif i[-2:] in [\"11\",\"12\"]:\n",
    "            new_df[i[:4] + \"q4\"] += df_homes[i]            \n",
    "        else:\n",
    "            continue\n",
    "            \n",
    "    return new_df\n",
    "\n",
    "housing_data = convertQuarters()\n",
    "df1 = housing_data.loc[:,\"2000q1\":]\n",
    "df2 = housing_data.loc[:,:\"State\"]\n",
    "\n",
    "housing_result = pd.concat([df2, df1], axis=1)\n",
    "recStart = recessionStart()\n",
    "recEnd = recessionEnd()\n",
    "states = {'OH': 'Ohio', 'KY': 'Kentucky', 'AS': 'American Samoa', 'NV': 'Nevada', 'WY': 'Wyoming', 'NA': 'National', 'AL': 'Alabama', 'MD': 'Maryland', 'AK': 'Alaska', 'UT': 'Utah', 'OR': 'Oregon', 'MT': 'Montana', 'IL': 'Illinois', 'TN': 'Tennessee', 'DC': 'District of Columbia', 'VT': 'Vermont', 'ID': 'Idaho', 'AR': 'Arkansas', 'ME': 'Maine', 'WA': 'Washington', 'HI': 'Hawaii', 'WI': 'Wisconsin', 'MI': 'Michigan', 'IN': 'Indiana', 'NJ': 'New Jersey', 'AZ': 'Arizona', 'GU': 'Guam', 'MS': 'Mississippi', 'PR': 'Puerto Rico', 'NC': 'North Carolina', 'TX': 'Texas', 'SD': 'South Dakota', 'MP': 'Northern Mariana Islands', 'IA': 'Iowa', 'MO': 'Missouri', 'CT': 'Connecticut', 'WV': 'West Virginia', 'SC': 'South Carolina', 'LA': 'Louisiana', 'KS': 'Kansas', 'NY': 'New York', 'NE': 'Nebraska', 'OK': 'Oklahoma', 'FL': 'Florida', 'CA': 'California', 'CO': 'Colorado', 'PA': 'Pennsylvania', 'DE': 'Delaware', 'NM': 'New Mexico', 'RI': 'Rhode Island', 'MN': 'Minnesota', 'VI': 'Virgin Islands', 'NH': 'New Hampshire', 'MA': 'Massachusetts', 'GA': 'Georgia', 'ND': 'North Dakota', 'VA': 'Virginia'}\n",
    "\n",
    "housing_result[\"States\"] = [states[i] for i in housing_result[\"State\"]]\n",
    "university_list = university_df2[\"RegionName\"].tolist()\n",
    "\n",
    "\n",
    "housing_result[\"isUni\"] = [1 if housing_result[\"RegionName\"][i] in university_list else 0 for i in range(len(housing_result[\"RegionName\"]))] \n",
    "housing_result.set_index([\"RegionName\",\"State\"], inplace= True)\n",
    "\n",
    "\n",
    "housing_result = pd.concat([housing_result.loc[:,recStart[0]:recEnd[0]], housing_result[\"isUni\"]], axis=1)\n",
    "#housing_result[\"Ratio\"] = housing_result[recStart[0]]/housing_result.min(axis=0)\n",
    "housing_result[\"Score\"] = abs(housing_result[\"2008q3\"] - housing_result.loc[:,\"2008q3\":\"2009q4\"].min(axis=1))+ abs(housing_result.loc[:,\"2008q3\":\"2009q4\"].min(axis=1) - housing_result[\"2009q4\"])\n",
    "\n",
    "\n",
    "is_uni = housing_result[housing_result[\"isUni\"]==1][\"Score\"].dropna()\n",
    "not_uni = housing_result[housing_result[\"isUni\"]==0][\"Score\"].dropna()\n",
    "\n",
    "pval = ttest_ind(is_uni, not_uni)[1]\n"
   ]
  }
 ],
 "metadata": {
  "kernelspec": {
   "display_name": "Python 3",
   "language": "python",
   "name": "python3"
  },
  "language_info": {
   "codemirror_mode": {
    "name": "ipython",
    "version": 3
   },
   "file_extension": ".py",
   "mimetype": "text/x-python",
   "name": "python",
   "nbconvert_exporter": "python",
   "pygments_lexer": "ipython3",
   "version": "3.6.5"
  }
 },
 "nbformat": 4,
 "nbformat_minor": 1
}
